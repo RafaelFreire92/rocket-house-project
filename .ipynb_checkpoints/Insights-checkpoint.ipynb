{
 "cells": [
  {
   "cell_type": "markdown",
   "id": "8624b250",
   "metadata": {},
   "source": [
    "## 0.0 Importar Pacotes"
   ]
  },
  {
   "cell_type": "code",
   "execution_count": 1,
   "id": "9c48c2c1",
   "metadata": {
    "ExecuteTime": {
     "end_time": "2023-06-29T23:31:42.697124Z",
     "start_time": "2023-06-29T23:31:40.660659Z"
    }
   },
   "outputs": [
    {
     "ename": "ModuleNotFoundError",
     "evalue": "No module named 'tabulate'",
     "output_type": "error",
     "traceback": [
      "\u001b[1;31m---------------------------------------------------------------------------\u001b[0m",
      "\u001b[1;31mModuleNotFoundError\u001b[0m                       Traceback (most recent call last)",
      "Cell \u001b[1;32mIn[1], line 4\u001b[0m\n\u001b[0;32m      2\u001b[0m \u001b[38;5;28;01mfrom\u001b[39;00m \u001b[38;5;21;01mdatetime\u001b[39;00m \u001b[38;5;28;01mimport\u001b[39;00m datetime\n\u001b[0;32m      3\u001b[0m \u001b[38;5;28;01mfrom\u001b[39;00m \u001b[38;5;21;01mipywidgets\u001b[39;00m \u001b[38;5;28;01mimport\u001b[39;00m fixed\n\u001b[1;32m----> 4\u001b[0m \u001b[38;5;28;01mfrom\u001b[39;00m \u001b[38;5;21;01mtabulate\u001b[39;00m \u001b[38;5;28;01mimport\u001b[39;00m tabulate\n\u001b[0;32m      5\u001b[0m \u001b[38;5;28;01mimport\u001b[39;00m \u001b[38;5;21;01mmatplotlib\u001b[39;00m\u001b[38;5;21;01m.\u001b[39;00m\u001b[38;5;21;01mpyplot\u001b[39;00m \u001b[38;5;28;01mas\u001b[39;00m \u001b[38;5;21;01mplt\u001b[39;00m\n\u001b[0;32m      6\u001b[0m \u001b[38;5;28;01mimport\u001b[39;00m \u001b[38;5;21;01mpandas\u001b[39;00m \u001b[38;5;28;01mas\u001b[39;00m \u001b[38;5;21;01mpd\u001b[39;00m\n",
      "\u001b[1;31mModuleNotFoundError\u001b[0m: No module named 'tabulate'"
     ]
    }
   ],
   "source": [
    "from matplotlib import gridspec\n",
    "from datetime import datetime\n",
    "from ipywidgets import fixed\n",
    "from tabulate import tabulate\n",
    "import matplotlib.pyplot as plt\n",
    "import pandas as pd\n",
    "import numpy as np\n",
    "import warnings\n",
    "import tqdm\n",
    "import ipywidgets as widgets\n",
    "import seaborn as sns\n",
    "import matplotlib.ticker as mtick\n",
    "import plotly.express as px"
   ]
  },
  {
   "cell_type": "markdown",
   "id": "5ca3334a",
   "metadata": {},
   "source": [
    "## 0.1 Funções Auxiliares"
   ]
  },
  {
   "cell_type": "code",
   "execution_count": null,
   "id": "d93cee99",
   "metadata": {
    "ExecuteTime": {
     "end_time": "2023-06-29T23:31:42.720120Z",
     "start_time": "2023-06-29T23:31:42.720120Z"
    }
   },
   "outputs": [],
   "source": [
    "pd.options.display.float_format = '{:.2f}'.format\n",
    "\n",
    "plt.rcParams['figure.figsize'] = (11,7)\n",
    "\n",
    "warnings.filterwarnings('ignore')"
   ]
  },
  {
   "cell_type": "markdown",
   "id": "0f1ae616",
   "metadata": {},
   "source": [
    "# 1.0 Dados"
   ]
  },
  {
   "cell_type": "markdown",
   "id": "965a3dc9",
   "metadata": {},
   "source": [
    "## 1.1 Importando Dados"
   ]
  },
  {
   "cell_type": "code",
   "execution_count": null,
   "id": "de09030a",
   "metadata": {
    "ExecuteTime": {
     "end_time": "2023-06-29T23:31:42.723144Z",
     "start_time": "2023-06-29T23:31:42.723144Z"
    }
   },
   "outputs": [],
   "source": [
    "df = pd.read_csv('Datasets/kc_house_data.csv')"
   ]
  },
  {
   "cell_type": "markdown",
   "id": "93163f5b",
   "metadata": {},
   "source": [
    "## 1.2 Dimensão dos Dados"
   ]
  },
  {
   "cell_type": "code",
   "execution_count": null,
   "id": "4a77cab5",
   "metadata": {
    "ExecuteTime": {
     "end_time": "2023-06-29T23:31:42.727150Z",
     "start_time": "2023-06-29T23:31:42.727150Z"
    }
   },
   "outputs": [],
   "source": [
    "print('Número de linhas é de :', df.shape[0])\n",
    "print('Número de colunas é de :', df.shape[1])"
   ]
  },
  {
   "cell_type": "markdown",
   "id": "bbef1c70",
   "metadata": {},
   "source": [
    "## 1.3 Tipos de Variáveis"
   ]
  },
  {
   "cell_type": "code",
   "execution_count": null,
   "id": "ba3fb1c9",
   "metadata": {
    "ExecuteTime": {
     "end_time": "2023-06-29T23:31:42.733141Z",
     "start_time": "2023-06-29T23:31:42.733141Z"
    }
   },
   "outputs": [],
   "source": [
    "df.dtypes"
   ]
  },
  {
   "cell_type": "markdown",
   "id": "0b1de4b7",
   "metadata": {},
   "source": [
    "## 1.4 Alterando os tipos de variáveis"
   ]
  },
  {
   "cell_type": "code",
   "execution_count": null,
   "id": "26908773",
   "metadata": {
    "ExecuteTime": {
     "end_time": "2023-06-29T23:31:42.737656Z",
     "start_time": "2023-06-29T23:31:42.737656Z"
    }
   },
   "outputs": [],
   "source": [
    "#Alterando a data para o formato de Datetime\n",
    "df['date'] = pd.to_datetime(df['date'])\n",
    "\n",
    "#Modificando a coluna yr_renovated para Datetime\n",
    "df['yr_renovated'] = df['yr_renovated'].replace(0,pd.NaT)\n",
    "df['yr_renovated'] = pd.to_datetime(df['yr_renovated'], format='%Y')"
   ]
  },
  {
   "cell_type": "markdown",
   "id": "1507163c",
   "metadata": {},
   "source": [
    "## 1.5 Criação de novas features"
   ]
  },
  {
   "cell_type": "code",
   "execution_count": null,
   "id": "f729bd59",
   "metadata": {
    "ExecuteTime": {
     "end_time": "2023-06-29T23:31:42.741675Z",
     "start_time": "2023-06-29T23:31:42.741675Z"
    }
   },
   "outputs": [],
   "source": [
    "#Criação de coluna para informar se foi construído antes ou depois de 1955\n",
    "df['bf1955'] = df['yr_built'].apply(lambda x: '>1955' if x > 1955\n",
    "                                   else '<1955')\n",
    "#Criação de coluna para informar se possuí porão ou não.\n",
    "df['basement'] = df['sqft_basement'].apply(lambda x: 'no' if x == 0\n",
    "                                          else 'yes')\n",
    "#Criação de colunas para mês e ano.\n",
    "df['month'] = df['date'].dt.month\n",
    "df['year'] = df['date'].dt.year\n",
    "\n",
    "#Criação de uma nova coluna para informar se imóvel foi reformado ou não\n",
    "df['renovated'] = df['yr_renovated'].apply(lambda x: 'yes' if pd.notnull(x) else 'No')\n",
    "\n",
    "#Criação de uma nova coluna para informar condição do imóvel\n",
    "df['condition']=df['condition'].astype(int)\n",
    "df['condition_type'] = df['condition'].apply(lambda x: 'bad' if x <=2 else 'regular' if (x==3) | (x == 4) else 'good')\n",
    "\n",
    "#Criação de nova coluna para informar estação do ano\n",
    "df['season'] = df['month'].apply(lambda x: 'summer' if (x > 5) & (x < 8) else\n",
    "                                           'spring' if (x > 2) & (x < 5) else\n",
    "                                           'fall' if (x > 8) & (x < 12) else\n",
    "                                           'winter') \n",
    "df.head()"
   ]
  },
  {
   "cell_type": "markdown",
   "id": "cd288c9c",
   "metadata": {},
   "source": [
    "## 1.5 Limpeza de Dados"
   ]
  },
  {
   "cell_type": "markdown",
   "id": "a47f9008",
   "metadata": {},
   "source": [
    "## 1.5.1 Verificando Duplicadas"
   ]
  },
  {
   "cell_type": "code",
   "execution_count": null,
   "id": "6a407af6",
   "metadata": {
    "ExecuteTime": {
     "end_time": "2023-06-29T23:31:42.746674Z",
     "start_time": "2023-06-29T23:31:42.746674Z"
    }
   },
   "outputs": [],
   "source": [
    "#Verficando se existem linhas duplicadas através do ID do DataFrame\n",
    "duplicated_column = df['id'].duplicated()\n",
    "print(duplicated_column.value_counts())"
   ]
  },
  {
   "cell_type": "code",
   "execution_count": null,
   "id": "b1c1f16f",
   "metadata": {
    "ExecuteTime": {
     "end_time": "2023-06-29T23:31:42.750673Z",
     "start_time": "2023-06-29T23:31:42.750673Z"
    }
   },
   "outputs": [],
   "source": [
    "#Realizando a exclusão das linhas duplicadas e verificando se foram corretamente excluídas\n",
    "df = df.drop_duplicates(subset=['id'], keep = 'last')\n",
    "new_duplicated_column = df['id'].duplicated()\n",
    "print(new_duplicated_column.value_counts())"
   ]
  },
  {
   "cell_type": "markdown",
   "id": "d77c3179",
   "metadata": {},
   "source": [
    "## 1.5.2 Valores Nulos"
   ]
  },
  {
   "cell_type": "code",
   "execution_count": null,
   "id": "e1695542",
   "metadata": {
    "ExecuteTime": {
     "end_time": "2023-06-29T23:31:42.755674Z",
     "start_time": "2023-06-29T23:31:42.755674Z"
    }
   },
   "outputs": [],
   "source": [
    "df.isna().sum()"
   ]
  },
  {
   "cell_type": "markdown",
   "id": "327187f9",
   "metadata": {},
   "source": [
    "## 1.5.3 Análise Estatística"
   ]
  },
  {
   "cell_type": "code",
   "execution_count": null,
   "id": "6bbb434b",
   "metadata": {
    "ExecuteTime": {
     "end_time": "2023-06-29T23:31:42.759690Z",
     "start_time": "2023-06-29T23:31:42.759690Z"
    }
   },
   "outputs": [],
   "source": [
    "df.columns"
   ]
  },
  {
   "cell_type": "code",
   "execution_count": null,
   "id": "cfcab41c",
   "metadata": {
    "ExecuteTime": {
     "end_time": "2023-06-29T23:31:42.764679Z",
     "start_time": "2023-06-29T23:31:42.763675Z"
    }
   },
   "outputs": [],
   "source": [
    "df[['price', 'bedrooms', 'bathrooms', 'sqft_living',\n",
    "       'sqft_lot', 'floors', 'sqft_above', 'sqft_basement', 'yr_built','sqft_living15', 'sqft_lot15']].describe().T"
   ]
  },
  {
   "cell_type": "code",
   "execution_count": null,
   "id": "2aceae35",
   "metadata": {
    "ExecuteTime": {
     "end_time": "2023-06-29T23:31:42.767672Z",
     "start_time": "2023-06-29T23:31:42.767672Z"
    }
   },
   "outputs": [],
   "source": [
    "bed = df[df['bedrooms']==33].index\n",
    "df = df.drop(bed)\n",
    "df['bedrooms'].unique()"
   ]
  },
  {
   "cell_type": "markdown",
   "id": "9ef70cb6",
   "metadata": {},
   "source": [
    "# 2.0 Exploração de Dados"
   ]
  },
  {
   "cell_type": "markdown",
   "id": "0f33262a",
   "metadata": {},
   "source": [
    "## 2.1 Correlação"
   ]
  },
  {
   "cell_type": "code",
   "execution_count": null,
   "id": "1d73e892",
   "metadata": {
    "ExecuteTime": {
     "end_time": "2023-06-29T23:31:42.771673Z",
     "start_time": "2023-06-29T23:31:42.771673Z"
    }
   },
   "outputs": [],
   "source": [
    "matrix = np.triu(df.corr())\n",
    "\n",
    "cmap = sns.diverging_palette(250, 10, as_cmap=True)\n",
    "ax = sns.heatmap(df.corr(), cmap = cmap, square = True, cbar_kws={\"shrink\": .6}, annot = False, center = 0, mask = matrix);\n",
    "\n",
    "# Rotacione as legendas dos eixos x e y em 45 graus\n",
    "ax.set_xticklabels(ax.get_xticklabels(), rotation=45, ha='right')\n",
    "\n",
    "# Adicione uma legenda\n",
    "cbar = ax.collections[0].colorbar\n",
    "cbar.set_label('Correlação')\n",
    "\n",
    "plt.subplots_adjust(bottom=0.15, left=0.15)\n",
    "plt.tight_layout()        "
   ]
  },
  {
   "cell_type": "markdown",
   "id": "33811d17",
   "metadata": {},
   "source": [
    "# 3.0 Insights"
   ]
  },
  {
   "cell_type": "code",
   "execution_count": null,
   "id": "ee9ab729",
   "metadata": {
    "ExecuteTime": {
     "end_time": "2023-06-29T23:31:42.775673Z",
     "start_time": "2023-06-29T23:31:42.775673Z"
    }
   },
   "outputs": [],
   "source": [
    "df =  df.copy()"
   ]
  },
  {
   "cell_type": "code",
   "execution_count": null,
   "id": "0eb5f15a",
   "metadata": {
    "ExecuteTime": {
     "start_time": "2023-06-29T23:31:40.669Z"
    }
   },
   "outputs": [],
   "source": [
    "df.dtypes"
   ]
  },
  {
   "cell_type": "markdown",
   "id": "13ad2ed5",
   "metadata": {},
   "source": [
    "## H1: Imóveis com a vista para a água são peloo menos 30% mais caros."
   ]
  },
  {
   "cell_type": "code",
   "execution_count": null,
   "id": "fd539309",
   "metadata": {
    "ExecuteTime": {
     "start_time": "2023-06-29T23:31:40.675Z"
    }
   },
   "outputs": [],
   "source": [
    "h1 = df[['price', 'waterfront']].groupby('waterfront').mean().reset_index()\n",
    "sns.barplot(x = h1['waterfront'], y = h1['price'])\n",
    "plt.ticklabel_format(style='plain', axis='y')\n",
    "plt.xticks(h1['waterfront'], ['Sem','Com'])\n",
    "plt.title('Média de valores para locais com e sem vista para a água')\n",
    "plt.xlabel('Vista para a água')\n",
    "plt.ylabel('Preço médio')\n",
    "\n",
    "\n",
    "h1['price_divided'] = h1['price'] / h1['price'].shift()\n",
    "h1.head()"
   ]
  },
  {
   "cell_type": "markdown",
   "id": "842e9dc2",
   "metadata": {},
   "source": [
    "## H2: Imóveis com data de construção menor que 1955 são em média 50% mais baratos"
   ]
  },
  {
   "cell_type": "code",
   "execution_count": null,
   "id": "ebf67383",
   "metadata": {
    "ExecuteTime": {
     "start_time": "2023-06-29T23:31:40.681Z"
    }
   },
   "outputs": [],
   "source": [
    "h2 = df[['bf1955', 'price']].groupby('bf1955').mean().reset_index()\n",
    "\n",
    "sns.barplot(x = h2['bf1955'], y = h2['price'])\n",
    "plt.ticklabel_format(style='plain', axis='y')\n",
    "\n",
    "plt.title('Média de valores para locais com construção anterior a 1955')\n",
    "plt.ylabel('Preço médio')\n",
    "\n",
    "\n",
    "h2['price_divided'] = h2['price'] / h2['price'].shift()\n",
    "h2.head()"
   ]
  },
  {
   "cell_type": "markdown",
   "id": "dd8a03ae",
   "metadata": {},
   "source": [
    "## H3: Imóveis sem porão poussem área total (sqrt_lot) pelo menos 50% maiores do que imóveis com porão"
   ]
  },
  {
   "cell_type": "code",
   "execution_count": null,
   "id": "90d8e078",
   "metadata": {
    "ExecuteTime": {
     "start_time": "2023-06-29T23:31:40.686Z"
    }
   },
   "outputs": [],
   "source": [
    "h3 = df[['basement','sqft_lot']].groupby('basement').mean().reset_index()\n",
    "\n",
    "sns.barplot(x = h3['basement'], y = h3['sqft_lot'])\n",
    "plt.ticklabel_format(style='plain', axis='y')\n",
    "\n",
    "plt.title('Média da área total de imóveis com e sem porão')\n",
    "plt.ylabel('Área média')\n",
    "\n",
    "\n",
    "h3['sqft_proportion'] = h3['sqft_lot'] / h3['sqft_lot'].shift()\n",
    "h3.head()"
   ]
  },
  {
   "cell_type": "markdown",
   "id": "a3d25326",
   "metadata": {},
   "source": [
    "## H4: O crescimento do preço dos imóveis ano após ano (YoY) é de 10%"
   ]
  },
  {
   "cell_type": "code",
   "execution_count": null,
   "id": "8a884d1e",
   "metadata": {
    "ExecuteTime": {
     "start_time": "2023-06-29T23:31:40.691Z"
    }
   },
   "outputs": [],
   "source": [
    "h4 = df[['year', 'price']].groupby('year').mean().reset_index()\n",
    "\n",
    "sns.barplot(x = h4['year'], y = h4['price'])\n",
    "plt.ticklabel_format(style='plain', axis='y')\n",
    "\n",
    "plt.title('Média do valor de imóveis nos anos de 2014 e 2015')\n",
    "plt.ylabel('Preço médio')\n",
    "plt.xlabel('Ano')\n",
    "\n",
    "\n",
    "h4['price_divided'] = h4['price'] / h4['price'].shift()\n",
    "h4.head()"
   ]
  },
  {
   "cell_type": "markdown",
   "id": "259129a2",
   "metadata": {},
   "source": [
    "## H5: Imóveis com 3 banheiros tem um crescimento MoM de 15%"
   ]
  },
  {
   "cell_type": "code",
   "execution_count": null,
   "id": "df868947",
   "metadata": {
    "ExecuteTime": {
     "start_time": "2023-06-29T23:31:40.696Z"
    }
   },
   "outputs": [],
   "source": [
    "h5 = df[df['bathrooms']==3]\n",
    "h5 = h5[['month','price']].groupby('month').mean().reset_index()\n",
    "\n",
    "sns.lineplot(data = h5, x = 'month',y='price', markers = True, color = 'b')\n",
    "plt.title('Média do valor de imóveis ao passar dos meses')\n",
    "plt.ylabel('Preço médio')\n",
    "plt.xlabel('Meses')\n",
    "\n",
    "h5['Diferenca_Perc'] = h5['price'].pct_change() * 100\n",
    "h5.head()"
   ]
  },
  {
   "cell_type": "markdown",
   "id": "85020f2e",
   "metadata": {},
   "source": [
    "## H6: Imóveis com data de construção inferior a 1955 e  reformados são 50% mais baratos, comparado aos não reformados"
   ]
  },
  {
   "cell_type": "code",
   "execution_count": null,
   "id": "1238d227",
   "metadata": {
    "ExecuteTime": {
     "start_time": "2023-06-29T23:31:40.702Z"
    }
   },
   "outputs": [],
   "source": [
    "h6 = df[df['bf1955'] == '<1955']\n",
    "h6 = h6[['renovated','price']].groupby(['renovated']).mean().reset_index()\n",
    "\n",
    "sns.barplot(x = h6['renovated'], y = h8['price'])\n",
    "plt.ticklabel_format(style='plain', axis='y')\n",
    "\n",
    "plt.title('Média do valor de imóveis de construção antes de 1955 com e sem reforma')\n",
    "plt.ylabel('Preço médio')\n",
    "plt.xlabel('Reformados')\n",
    "\n",
    "\n",
    "price_divided = h6['price'].shift() / h6['price']\n",
    "print(price_divided)\n",
    "#O imóvel é 30% mais barato"
   ]
  },
  {
   "cell_type": "markdown",
   "id": "b605780b",
   "metadata": {},
   "source": [
    "## H7: Imóveis em boas condições e com vista para água são 20% mais caros em comparação aos em más condições e com vista para água"
   ]
  },
  {
   "cell_type": "code",
   "execution_count": null,
   "id": "02c47db8",
   "metadata": {
    "ExecuteTime": {
     "start_time": "2023-06-29T23:31:40.706Z"
    }
   },
   "outputs": [],
   "source": [
    "h7 = df[['price','waterfront','condition_type']].groupby(['waterfront','condition_type']).mean().reset_index()\n",
    "\n",
    "good_water = h7[(h7['condition_type']=='good') & (h7['waterfront']==1)].reset_index()\n",
    "bad_water =h7[(h7['condition_type']=='bad') & (h7['waterfront']==1)].reset_index()\n",
    "\n",
    "print(good_water['price']/bad_water['price'])\n",
    "\n",
    "fig = plt.figure(figsize=(24,12))\n",
    "specs = gridspec.GridSpec( ncols=2, nrows=1, figure=fig )\n",
    "\n",
    "ax1 =fig.add_subplot( specs[0, 0] ) # First Row\n",
    "ax2 =fig.add_subplot( specs[0,1] )\n",
    "\n",
    "ax1.bar(good_water['condition_type'], good_water['price'])\n",
    "ax2.bar(bad_water['condition_type'], bad_water['price'])\n",
    "\n",
    "print(good_water['price'])\n",
    "print(bad_water['price'])"
   ]
  },
  {
   "cell_type": "markdown",
   "id": "3ae9ffee",
   "metadata": {},
   "source": [
    "## H8: Imóveis em boas condições e com vista para água são pelo menos 10% mais caros em comparação aos em boas condições e sem vista para água"
   ]
  },
  {
   "cell_type": "code",
   "execution_count": null,
   "id": "b40272c0",
   "metadata": {
    "ExecuteTime": {
     "start_time": "2023-06-29T23:31:40.711Z"
    }
   },
   "outputs": [],
   "source": [
    "h8 = df[df['condition_type'] == 'good']\n",
    "\n",
    "h8 = h8[['price','waterfront']].groupby('waterfront').mean().reset_index()\n",
    "\n",
    "sns.barplot(x = h8['waterfront'], y = h8['price'])\n",
    "plt.ticklabel_format(style='plain', axis='y')\n",
    "plt.xticks(h8['waterfront'], ['Sem','Com'])\n",
    "plt.title('Média do valor de imóveis em boas condições com e sem vista para água')\n",
    "plt.ylabel('Preço médio')\n",
    "plt.xlabel('Vista para a água')\n",
    "\n",
    "\n",
    "h8['price_divided'] = h8['price'] / h8['price'].shift()\n",
    "\n",
    "h8.head()"
   ]
  },
  {
   "cell_type": "markdown",
   "id": "afb443fa",
   "metadata": {},
   "source": [
    "## H9: Imóveis que nunca foram reformados são pelo menos 10% mais baratos que os não reformados"
   ]
  },
  {
   "cell_type": "code",
   "execution_count": null,
   "id": "61628123",
   "metadata": {
    "ExecuteTime": {
     "start_time": "2023-06-29T23:31:40.719Z"
    }
   },
   "outputs": [],
   "source": [
    "h9 = df[['renovated','price']].groupby('renovated').mean().reset_index()\n",
    "\n",
    "sns.barplot(x = h9['renovated'], y = h9['price'])\n",
    "plt.ticklabel_format(style='plain', axis='y')\n",
    "\n",
    "plt.title('Média do valor de imóveis reformados')\n",
    "plt.ylabel('Preço médio')\n",
    "plt.xlabel('Reformado')\n",
    "\n",
    "\n",
    "print(h9['price'].shift()/h9['price'])"
   ]
  },
  {
   "cell_type": "markdown",
   "id": "51894a07",
   "metadata": {},
   "source": [
    "## H10: Imóveis construídos antes de 1955 possuem mais banheiros"
   ]
  },
  {
   "cell_type": "code",
   "execution_count": null,
   "id": "1a3bd36d",
   "metadata": {
    "ExecuteTime": {
     "start_time": "2023-06-29T23:31:40.722Z"
    }
   },
   "outputs": [],
   "source": [
    "h10 = df[['bathrooms','bf1955']].groupby('bf1955').mean()\n",
    "\n",
    "\n",
    "print(h10)\n"
   ]
  },
  {
   "cell_type": "markdown",
   "id": "5d490f98",
   "metadata": {},
   "source": [
    "# 3.0 Questão de Negócio"
   ]
  },
  {
   "cell_type": "markdown",
   "id": "54cbe11b",
   "metadata": {},
   "source": [
    "## 3.1 Quais são os imóveis que a House Rocket deveria comprar e por qual preço ?"
   ]
  },
  {
   "cell_type": "code",
   "execution_count": null,
   "id": "10adbd27",
   "metadata": {
    "ExecuteTime": {
     "start_time": "2023-06-29T23:31:40.726Z"
    }
   },
   "outputs": [],
   "source": [
    "df = df.copy()\n",
    "\n",
    "df1 = df[['zipcode','price']].groupby('zipcode').median().reset_index()\n",
    "\n",
    "df2 = pd.merge(df1,df, on='zipcode', how = 'inner')\n",
    "\n",
    "df2 = df2.rename(columns = {'price_y':'price', 'price_x':'price_median'})\n",
    "\n",
    "for i, row in df2.iterrows():\n",
    "    if (row['price_median']>= row['price']) & (row['condition_type'] == 'good'):\n",
    "        df2.loc[i,'buy'] = 'yes'\n",
    "    else:\n",
    "        df2.loc[i,'buy'] = 'no'"
   ]
  },
  {
   "cell_type": "code",
   "execution_count": null,
   "id": "f7d3c951",
   "metadata": {
    "ExecuteTime": {
     "start_time": "2023-06-29T23:31:40.729Z"
    }
   },
   "outputs": [],
   "source": [
    "buy = df2[df2['buy']=='yes']\n",
    "\n",
    "buy['buy'].shape[0]\n",
    "buy[['id','price','buy']]"
   ]
  },
  {
   "cell_type": "code",
   "execution_count": null,
   "id": "84729e01",
   "metadata": {
    "ExecuteTime": {
     "start_time": "2023-06-29T23:31:40.732Z"
    }
   },
   "outputs": [],
   "source": [
    "id_bar = widgets.Dropdown(\n",
    "        options = df2['buy'].unique().tolist(),\n",
    "        descriptiono = 'region',\n",
    "        disabled = False)\n"
   ]
  },
  {
   "cell_type": "code",
   "execution_count": null,
   "id": "33441356",
   "metadata": {
    "ExecuteTime": {
     "start_time": "2023-06-29T23:31:40.735Z"
    }
   },
   "outputs": [],
   "source": [
    "def update_map(df3, id_bar):\n",
    "    house = df2[(df2['buy'] == id_bar)][['id', 'lat', 'long', 'condition', 'buy', 'price']]\n",
    "    \n",
    "    mapa = px.scatter_mapbox(house, lat = 'lat',lon = 'long',\n",
    "                            size = 'price',\n",
    "                            color = 'condition',\n",
    "                            opacity = 0.5,\n",
    "                            zoom = 10)\n",
    "    \n",
    "    mapa.update_layout(mapbox_style = 'open-street-map')\n",
    "    mapa.update_layout(height = 600, margin = {'b':0, 't':0, 'r':0, 'l': 0})\n",
    "    mapa.show()\n",
    "    \n",
    "widgets.interactive(update_map, df3 = fixed(df2), id_bar = id_bar)"
   ]
  },
  {
   "cell_type": "markdown",
   "id": "90817387",
   "metadata": {},
   "source": [
    "## 3.2 Uma vez comprado, qual é o melhor momento para vendê-lo e por qual preço ?"
   ]
  },
  {
   "cell_type": "code",
   "execution_count": null,
   "id": "bfcc69be",
   "metadata": {
    "ExecuteTime": {
     "start_time": "2023-06-29T23:31:40.739Z"
    }
   },
   "outputs": [],
   "source": [
    "df3 = df2.copy()"
   ]
  },
  {
   "cell_type": "code",
   "execution_count": null,
   "id": "3c19fe07",
   "metadata": {
    "ExecuteTime": {
     "start_time": "2023-06-29T23:31:40.742Z"
    }
   },
   "outputs": [],
   "source": [
    "df3 = df3[df3['buy']=='yes']"
   ]
  },
  {
   "cell_type": "code",
   "execution_count": null,
   "id": "05600502",
   "metadata": {
    "ExecuteTime": {
     "start_time": "2023-06-29T23:31:40.747Z"
    }
   },
   "outputs": [],
   "source": [
    "df4 = df3[['season', 'zipcode', 'price']].groupby(['zipcode', 'season']).median().reset_index()\n",
    "\n",
    "df4 = df4.rename(columns = {'price' : 'price_m_season', 'season': 'season_median'} ) \n",
    "\n",
    "df5 = pd.merge(df3, df4, on='zipcode', how = 'inner')\n",
    "\n",
    "df5['sale'] = df5.apply(lambda row: row['price'] * 1.1 if row['price_m_season'] > row['price'] else row['price'] * 1.3, axis=1)\n",
    "\n",
    "df5 = df5.drop_duplicates(subset='id')"
   ]
  },
  {
   "cell_type": "code",
   "execution_count": null,
   "id": "aa89f927",
   "metadata": {
    "ExecuteTime": {
     "start_time": "2023-06-29T23:31:40.751Z"
    }
   },
   "outputs": [],
   "source": [
    "df5[['season', 'price', 'id', 'sale']].head(20)"
   ]
  },
  {
   "cell_type": "code",
   "execution_count": null,
   "id": "32cdd3c8",
   "metadata": {
    "ExecuteTime": {
     "start_time": "2023-06-29T23:31:40.754Z"
    }
   },
   "outputs": [],
   "source": [
    "sns.barplot(data = df5, x = 'season',y='sale')"
   ]
  },
  {
   "cell_type": "markdown",
   "id": "3e03abf4",
   "metadata": {},
   "source": [
    "# 4.0 Resultados para o negócio"
   ]
  },
  {
   "cell_type": "code",
   "execution_count": null,
   "id": "4ec9662b",
   "metadata": {
    "ExecuteTime": {
     "start_time": "2023-06-29T23:31:40.757Z"
    }
   },
   "outputs": [],
   "source": [
    "df5['profit'] = df5['sale'] - df5['price']"
   ]
  },
  {
   "cell_type": "code",
   "execution_count": null,
   "id": "e91b1b40",
   "metadata": {
    "ExecuteTime": {
     "start_time": "2023-06-29T23:31:40.760Z"
    }
   },
   "outputs": [],
   "source": [
    "print(\"Com a compra e venda dos imóveis a empresa irá lucrar {:.2f}\".format(df5['profit'].sum()))"
   ]
  },
  {
   "cell_type": "markdown",
   "id": "68bfa1c8",
   "metadata": {},
   "source": [
    "# 5.0 Resultados dos teste das hipóteses"
   ]
  },
  {
   "cell_type": "code",
   "execution_count": null,
   "id": "b7bff046",
   "metadata": {
    "ExecuteTime": {
     "start_time": "2023-06-29T23:31:40.763Z"
    }
   },
   "outputs": [],
   "source": [
    "hipoteses = [['Hipótese','Validação','Resultado'],\n",
    "            ['H1','Verdadeiro','Os imóveis com vista para a água são em média 212% mais caros.'],\n",
    "            ['H2','Falso','O ano de construção dos imóveis não parece influenciar diretamente no preço.'],\n",
    "            ['H3','Falso','Os imóveis sem porão possuem área total maior, porém em média de 20% maior.'],\n",
    "            ['H4','Falso','O crescimento da média de preço dos imóveis é inferior a 1%.'],\n",
    "            ['H5','Falso','O preço dos imóveis varia de acordo com o mês, em momentos ocorrendo um aumento em outros uma redução.'],\n",
    "            ['H6','Falso','Os imóveis com data de construção inferior a 1955 e reformados são na verdade 30% mais baratos.'],\n",
    "            ['H7','Falso','Os imóveis em más condições e com vista para água são 2% mais caros, comparados aos em boas condições.'],\n",
    "            ['H8','Verdadeiro','Comparando imóveis em boas condições, os que possuem vista para água são em média 163% mais caros.'],\n",
    "            ['H9','Verdadeiro','Os imóveis não reformado são em média 30% mais baratos.'],\n",
    "            ['H10','Falso','Imóveis após o ano de 1955 possuem mais banheiros.']]\n",
    "\n",
    "\n",
    "print(tabulate(hipoteses, headers='firstrow'))"
   ]
  }
 ],
 "metadata": {
  "kernelspec": {
   "display_name": "Python 3 (ipykernel)",
   "language": "python",
   "name": "python3"
  },
  "language_info": {
   "codemirror_mode": {
    "name": "ipython",
    "version": 3
   },
   "file_extension": ".py",
   "mimetype": "text/x-python",
   "name": "python",
   "nbconvert_exporter": "python",
   "pygments_lexer": "ipython3",
   "version": "3.10.9"
  },
  "toc": {
   "base_numbering": 1,
   "nav_menu": {
    "height": "345px",
    "width": "246px"
   },
   "number_sections": true,
   "sideBar": true,
   "skip_h1_title": false,
   "title_cell": "Table of Contents",
   "title_sidebar": "Contents",
   "toc_cell": false,
   "toc_position": {},
   "toc_section_display": true,
   "toc_window_display": false
  },
  "varInspector": {
   "cols": {
    "lenName": 16,
    "lenType": 16,
    "lenVar": 40
   },
   "kernels_config": {
    "python": {
     "delete_cmd_postfix": "",
     "delete_cmd_prefix": "del ",
     "library": "var_list.py",
     "varRefreshCmd": "print(var_dic_list())"
    },
    "r": {
     "delete_cmd_postfix": ") ",
     "delete_cmd_prefix": "rm(",
     "library": "var_list.r",
     "varRefreshCmd": "cat(var_dic_list()) "
    }
   },
   "types_to_exclude": [
    "module",
    "function",
    "builtin_function_or_method",
    "instance",
    "_Feature"
   ],
   "window_display": false
  }
 },
 "nbformat": 4,
 "nbformat_minor": 5
}
