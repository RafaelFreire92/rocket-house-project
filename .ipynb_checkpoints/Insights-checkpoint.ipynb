{
 "cells": [
  {
   "cell_type": "markdown",
   "id": "8624b250",
   "metadata": {},
   "source": [
    "## 0.0 Importar Pacotes"
   ]
  },
  {
   "cell_type": "code",
   "execution_count": 1,
   "id": "9c48c2c1",
   "metadata": {
    "ExecuteTime": {
     "end_time": "2023-07-02T19:03:11.066320Z",
     "start_time": "2023-07-02T19:03:08.736149Z"
    }
   },
   "outputs": [],
   "source": [
    "from matplotlib import gridspec\n",
    "from datetime import datetime\n",
    "from ipywidgets import fixed\n",
    "from tabulate import tabulate\n",
    "import matplotlib.pyplot as plt\n",
    "import pandas as pd\n",
    "import numpy as np\n",
    "import warnings\n",
    "import tqdm\n",
    "import ipywidgets as widgets\n",
    "import seaborn as sns\n",
    "import matplotlib.ticker as mtick\n",
    "import plotly.express as px"
   ]
  },
  {
   "cell_type": "markdown",
   "id": "5ca3334a",
   "metadata": {},
   "source": [
    "## 0.1 Funções Auxiliares"
   ]
  },
  {
   "cell_type": "code",
   "execution_count": 2,
   "id": "d93cee99",
   "metadata": {
    "ExecuteTime": {
     "end_time": "2023-07-02T19:03:11.081744Z",
     "start_time": "2023-07-02T19:03:11.072328Z"
    }
   },
   "outputs": [],
   "source": [
    "pd.options.display.float_format = '{:.2f}'.format\n",
    "\n",
    "plt.rcParams['figure.figsize'] = (11, 7)\n",
    "\n",
    "warnings.filterwarnings('ignore')"
   ]
  },
  {
   "cell_type": "markdown",
   "id": "0f1ae616",
   "metadata": {},
   "source": [
    "# 1.0 Dados"
   ]
  },
  {
   "cell_type": "markdown",
   "id": "965a3dc9",
   "metadata": {},
   "source": [
    "## 1.1 Importando Dados"
   ]
  },
  {
   "cell_type": "code",
   "execution_count": 3,
   "id": "de09030a",
   "metadata": {
    "ExecuteTime": {
     "end_time": "2023-07-02T19:03:11.191403Z",
     "start_time": "2023-07-02T19:03:11.090853Z"
    }
   },
   "outputs": [],
   "source": [
    "df = pd.read_csv('Datasets/kc_house_data.csv')"
   ]
  },
  {
   "cell_type": "markdown",
   "id": "93163f5b",
   "metadata": {},
   "source": [
    "## 1.2 Dimensão dos Dados"
   ]
  },
  {
   "cell_type": "code",
   "execution_count": 4,
   "id": "4a77cab5",
   "metadata": {
    "ExecuteTime": {
     "end_time": "2023-07-02T19:03:11.223401Z",
     "start_time": "2023-07-02T19:03:11.197408Z"
    }
   },
   "outputs": [
    {
     "name": "stdout",
     "output_type": "stream",
     "text": [
      "Número de linhas é de : 21613\n",
      "Número de colunas é de : 21\n"
     ]
    }
   ],
   "source": [
    "print('Número de linhas é de :', df.shape[0])\n",
    "print('Número de colunas é de :', df.shape[1])"
   ]
  },
  {
   "cell_type": "markdown",
   "id": "bbef1c70",
   "metadata": {},
   "source": [
    "## 1.3 Tipos de Variáveis"
   ]
  },
  {
   "cell_type": "code",
   "execution_count": 5,
   "id": "ba3fb1c9",
   "metadata": {
    "ExecuteTime": {
     "end_time": "2023-07-02T19:03:11.254967Z",
     "start_time": "2023-07-02T19:03:11.229408Z"
    }
   },
   "outputs": [
    {
     "data": {
      "text/plain": [
       "id                 int64\n",
       "date              object\n",
       "price            float64\n",
       "bedrooms           int64\n",
       "bathrooms        float64\n",
       "sqft_living        int64\n",
       "sqft_lot           int64\n",
       "floors           float64\n",
       "waterfront         int64\n",
       "view               int64\n",
       "condition          int64\n",
       "grade              int64\n",
       "sqft_above         int64\n",
       "sqft_basement      int64\n",
       "yr_built           int64\n",
       "yr_renovated       int64\n",
       "zipcode            int64\n",
       "lat              float64\n",
       "long             float64\n",
       "sqft_living15      int64\n",
       "sqft_lot15         int64\n",
       "dtype: object"
      ]
     },
     "execution_count": 5,
     "metadata": {},
     "output_type": "execute_result"
    }
   ],
   "source": [
    "df.dtypes"
   ]
  },
  {
   "cell_type": "markdown",
   "id": "0b1de4b7",
   "metadata": {},
   "source": [
    "## 1.4 Alterando os tipos de variáveis"
   ]
  },
  {
   "cell_type": "code",
   "execution_count": 6,
   "id": "26908773",
   "metadata": {
    "ExecuteTime": {
     "end_time": "2023-07-02T19:03:11.316965Z",
     "start_time": "2023-07-02T19:03:11.260967Z"
    }
   },
   "outputs": [],
   "source": [
    "# Alterando a data para o formato de Datetime\n",
    "df['date'] = pd.to_datetime(df['date'])\n",
    "\n",
    "# Modificando a coluna yr_renovated para Datetime\n",
    "df['yr_renovated'] = df['yr_renovated'].replace(0, pd.NaT)\n",
    "df['yr_renovated'] = pd.to_datetime(df['yr_renovated'], format='%Y')"
   ]
  },
  {
   "cell_type": "markdown",
   "id": "1507163c",
   "metadata": {},
   "source": [
    "## 1.5 Criação de novas features"
   ]
  },
  {
   "cell_type": "code",
   "execution_count": 7,
   "id": "f729bd59",
   "metadata": {
    "ExecuteTime": {
     "end_time": "2023-07-02T19:03:11.492074Z",
     "start_time": "2023-07-02T19:03:11.321971Z"
    }
   },
   "outputs": [
    {
     "data": {
      "text/html": [
       "<div>\n",
       "<style scoped>\n",
       "    .dataframe tbody tr th:only-of-type {\n",
       "        vertical-align: middle;\n",
       "    }\n",
       "\n",
       "    .dataframe tbody tr th {\n",
       "        vertical-align: top;\n",
       "    }\n",
       "\n",
       "    .dataframe thead th {\n",
       "        text-align: right;\n",
       "    }\n",
       "</style>\n",
       "<table border=\"1\" class=\"dataframe\">\n",
       "  <thead>\n",
       "    <tr style=\"text-align: right;\">\n",
       "      <th></th>\n",
       "      <th>id</th>\n",
       "      <th>date</th>\n",
       "      <th>price</th>\n",
       "      <th>bedrooms</th>\n",
       "      <th>bathrooms</th>\n",
       "      <th>sqft_living</th>\n",
       "      <th>sqft_lot</th>\n",
       "      <th>floors</th>\n",
       "      <th>waterfront</th>\n",
       "      <th>view</th>\n",
       "      <th>...</th>\n",
       "      <th>long</th>\n",
       "      <th>sqft_living15</th>\n",
       "      <th>sqft_lot15</th>\n",
       "      <th>bf1955</th>\n",
       "      <th>basement</th>\n",
       "      <th>month</th>\n",
       "      <th>year</th>\n",
       "      <th>renovated</th>\n",
       "      <th>condition_type</th>\n",
       "      <th>season</th>\n",
       "    </tr>\n",
       "  </thead>\n",
       "  <tbody>\n",
       "    <tr>\n",
       "      <th>0</th>\n",
       "      <td>7129300520</td>\n",
       "      <td>2014-10-13</td>\n",
       "      <td>221900.00</td>\n",
       "      <td>3</td>\n",
       "      <td>1.00</td>\n",
       "      <td>1180</td>\n",
       "      <td>5650</td>\n",
       "      <td>1.00</td>\n",
       "      <td>0</td>\n",
       "      <td>0</td>\n",
       "      <td>...</td>\n",
       "      <td>-122.26</td>\n",
       "      <td>1340</td>\n",
       "      <td>5650</td>\n",
       "      <td>&lt;1955</td>\n",
       "      <td>no</td>\n",
       "      <td>10</td>\n",
       "      <td>2014</td>\n",
       "      <td>No</td>\n",
       "      <td>regular</td>\n",
       "      <td>fall</td>\n",
       "    </tr>\n",
       "    <tr>\n",
       "      <th>1</th>\n",
       "      <td>6414100192</td>\n",
       "      <td>2014-12-09</td>\n",
       "      <td>538000.00</td>\n",
       "      <td>3</td>\n",
       "      <td>2.25</td>\n",
       "      <td>2570</td>\n",
       "      <td>7242</td>\n",
       "      <td>2.00</td>\n",
       "      <td>0</td>\n",
       "      <td>0</td>\n",
       "      <td>...</td>\n",
       "      <td>-122.32</td>\n",
       "      <td>1690</td>\n",
       "      <td>7639</td>\n",
       "      <td>&lt;1955</td>\n",
       "      <td>yes</td>\n",
       "      <td>12</td>\n",
       "      <td>2014</td>\n",
       "      <td>yes</td>\n",
       "      <td>regular</td>\n",
       "      <td>winter</td>\n",
       "    </tr>\n",
       "    <tr>\n",
       "      <th>2</th>\n",
       "      <td>5631500400</td>\n",
       "      <td>2015-02-25</td>\n",
       "      <td>180000.00</td>\n",
       "      <td>2</td>\n",
       "      <td>1.00</td>\n",
       "      <td>770</td>\n",
       "      <td>10000</td>\n",
       "      <td>1.00</td>\n",
       "      <td>0</td>\n",
       "      <td>0</td>\n",
       "      <td>...</td>\n",
       "      <td>-122.23</td>\n",
       "      <td>2720</td>\n",
       "      <td>8062</td>\n",
       "      <td>&lt;1955</td>\n",
       "      <td>no</td>\n",
       "      <td>2</td>\n",
       "      <td>2015</td>\n",
       "      <td>No</td>\n",
       "      <td>regular</td>\n",
       "      <td>winter</td>\n",
       "    </tr>\n",
       "    <tr>\n",
       "      <th>3</th>\n",
       "      <td>2487200875</td>\n",
       "      <td>2014-12-09</td>\n",
       "      <td>604000.00</td>\n",
       "      <td>4</td>\n",
       "      <td>3.00</td>\n",
       "      <td>1960</td>\n",
       "      <td>5000</td>\n",
       "      <td>1.00</td>\n",
       "      <td>0</td>\n",
       "      <td>0</td>\n",
       "      <td>...</td>\n",
       "      <td>-122.39</td>\n",
       "      <td>1360</td>\n",
       "      <td>5000</td>\n",
       "      <td>&gt;1955</td>\n",
       "      <td>yes</td>\n",
       "      <td>12</td>\n",
       "      <td>2014</td>\n",
       "      <td>No</td>\n",
       "      <td>good</td>\n",
       "      <td>winter</td>\n",
       "    </tr>\n",
       "    <tr>\n",
       "      <th>4</th>\n",
       "      <td>1954400510</td>\n",
       "      <td>2015-02-18</td>\n",
       "      <td>510000.00</td>\n",
       "      <td>3</td>\n",
       "      <td>2.00</td>\n",
       "      <td>1680</td>\n",
       "      <td>8080</td>\n",
       "      <td>1.00</td>\n",
       "      <td>0</td>\n",
       "      <td>0</td>\n",
       "      <td>...</td>\n",
       "      <td>-122.05</td>\n",
       "      <td>1800</td>\n",
       "      <td>7503</td>\n",
       "      <td>&gt;1955</td>\n",
       "      <td>no</td>\n",
       "      <td>2</td>\n",
       "      <td>2015</td>\n",
       "      <td>No</td>\n",
       "      <td>regular</td>\n",
       "      <td>winter</td>\n",
       "    </tr>\n",
       "  </tbody>\n",
       "</table>\n",
       "<p>5 rows × 28 columns</p>\n",
       "</div>"
      ],
      "text/plain": [
       "           id       date     price  bedrooms  bathrooms  sqft_living  \\\n",
       "0  7129300520 2014-10-13 221900.00         3       1.00         1180   \n",
       "1  6414100192 2014-12-09 538000.00         3       2.25         2570   \n",
       "2  5631500400 2015-02-25 180000.00         2       1.00          770   \n",
       "3  2487200875 2014-12-09 604000.00         4       3.00         1960   \n",
       "4  1954400510 2015-02-18 510000.00         3       2.00         1680   \n",
       "\n",
       "   sqft_lot  floors  waterfront  view  ...    long  sqft_living15  sqft_lot15  \\\n",
       "0      5650    1.00           0     0  ... -122.26           1340        5650   \n",
       "1      7242    2.00           0     0  ... -122.32           1690        7639   \n",
       "2     10000    1.00           0     0  ... -122.23           2720        8062   \n",
       "3      5000    1.00           0     0  ... -122.39           1360        5000   \n",
       "4      8080    1.00           0     0  ... -122.05           1800        7503   \n",
       "\n",
       "   bf1955  basement month  year  renovated  condition_type  season  \n",
       "0   <1955        no    10  2014         No         regular    fall  \n",
       "1   <1955       yes    12  2014        yes         regular  winter  \n",
       "2   <1955        no     2  2015         No         regular  winter  \n",
       "3   >1955       yes    12  2014         No            good  winter  \n",
       "4   >1955        no     2  2015         No         regular  winter  \n",
       "\n",
       "[5 rows x 28 columns]"
      ]
     },
     "execution_count": 7,
     "metadata": {},
     "output_type": "execute_result"
    }
   ],
   "source": [
    "# Criação de coluna para informar se foi construído antes ou depois de 1955\n",
    "df['bf1955'] = df['yr_built'].apply(lambda x: '>1955' if x > 1955\n",
    "                                    else '<1955')\n",
    "# Criação de coluna para informar se possuí porão ou não.\n",
    "df['basement'] = df['sqft_basement'].apply(lambda x: 'no' if x == 0\n",
    "                                           else 'yes')\n",
    "# Criação de colunas para mês e ano.\n",
    "df['month'] = df['date'].dt.month\n",
    "df['year'] = df['date'].dt.year\n",
    "\n",
    "# Criação de uma nova coluna para informar se imóvel foi reformado ou não\n",
    "df['renovated'] = df['yr_renovated'].apply(\n",
    "    lambda x: 'yes' if pd.notnull(x) else 'No')\n",
    "\n",
    "# Criação de uma nova coluna para informar condição do imóvel\n",
    "df['condition'] = df['condition'].astype(int)\n",
    "df['condition_type'] = df['condition'].apply(\n",
    "    lambda x: 'bad' if x <= 2 else 'regular' if (x == 3) | (x == 4) else 'good')\n",
    "\n",
    "# Criação de nova coluna para informar estação do ano\n",
    "df['season'] = df['month'].apply(lambda x: 'summer' if (x > 5) & (x < 8) else\n",
    "                                           'spring' if (x > 2) & (x < 5) else\n",
    "                                           'fall' if (x > 8) & (x < 12) else\n",
    "                                           'winter')\n",
    "df.head()"
   ]
  },
  {
   "cell_type": "markdown",
   "id": "cd288c9c",
   "metadata": {},
   "source": [
    "## 1.5 Limpeza de Dados"
   ]
  },
  {
   "cell_type": "markdown",
   "id": "a47f9008",
   "metadata": {},
   "source": [
    "## 1.5.1 Verificando Duplicadas"
   ]
  },
  {
   "cell_type": "code",
   "execution_count": 8,
   "id": "6a407af6",
   "metadata": {
    "ExecuteTime": {
     "end_time": "2023-07-02T19:03:11.524092Z",
     "start_time": "2023-07-02T19:03:11.498079Z"
    }
   },
   "outputs": [
    {
     "name": "stdout",
     "output_type": "stream",
     "text": [
      "id\n",
      "False    21436\n",
      "True       177\n",
      "Name: count, dtype: int64\n"
     ]
    }
   ],
   "source": [
    "#Verficando se existem linhas duplicadas através do ID do DataFrame\n",
    "duplicated_column = df['id'].duplicated()\n",
    "print(duplicated_column.value_counts())"
   ]
  },
  {
   "cell_type": "code",
   "execution_count": 9,
   "id": "b1c1f16f",
   "metadata": {
    "ExecuteTime": {
     "end_time": "2023-07-02T19:03:11.571620Z",
     "start_time": "2023-07-02T19:03:11.536097Z"
    }
   },
   "outputs": [
    {
     "name": "stdout",
     "output_type": "stream",
     "text": [
      "id\n",
      "False    21436\n",
      "Name: count, dtype: int64\n"
     ]
    }
   ],
   "source": [
    "#Realizando a exclusão das linhas duplicadas e verificando se foram corretamente excluídas\n",
    "df = df.drop_duplicates(subset=['id'], keep = 'last')\n",
    "new_duplicated_column = df['id'].duplicated()\n",
    "print(new_duplicated_column.value_counts())"
   ]
  },
  {
   "cell_type": "markdown",
   "id": "d77c3179",
   "metadata": {},
   "source": [
    "## 1.5.2 Valores Nulos"
   ]
  },
  {
   "cell_type": "code",
   "execution_count": 10,
   "id": "e1695542",
   "metadata": {
    "ExecuteTime": {
     "end_time": "2023-07-02T19:03:11.603613Z",
     "start_time": "2023-07-02T19:03:11.576620Z"
    }
   },
   "outputs": [
    {
     "data": {
      "text/plain": [
       "id                    0\n",
       "date                  0\n",
       "price                 0\n",
       "bedrooms              0\n",
       "bathrooms             0\n",
       "sqft_living           0\n",
       "sqft_lot              0\n",
       "floors                0\n",
       "waterfront            0\n",
       "view                  0\n",
       "condition             0\n",
       "grade                 0\n",
       "sqft_above            0\n",
       "sqft_basement         0\n",
       "yr_built              0\n",
       "yr_renovated      20526\n",
       "zipcode               0\n",
       "lat                   0\n",
       "long                  0\n",
       "sqft_living15         0\n",
       "sqft_lot15            0\n",
       "bf1955                0\n",
       "basement              0\n",
       "month                 0\n",
       "year                  0\n",
       "renovated             0\n",
       "condition_type        0\n",
       "season                0\n",
       "dtype: int64"
      ]
     },
     "execution_count": 10,
     "metadata": {},
     "output_type": "execute_result"
    }
   ],
   "source": [
    "df.isna().sum()"
   ]
  },
  {
   "cell_type": "markdown",
   "id": "327187f9",
   "metadata": {},
   "source": [
    "## 1.5.3 Análise Estatística"
   ]
  },
  {
   "cell_type": "code",
   "execution_count": 11,
   "id": "6bbb434b",
   "metadata": {
    "ExecuteTime": {
     "end_time": "2023-07-02T19:03:11.635614Z",
     "start_time": "2023-07-02T19:03:11.608622Z"
    }
   },
   "outputs": [
    {
     "data": {
      "text/plain": [
       "Index(['id', 'date', 'price', 'bedrooms', 'bathrooms', 'sqft_living',\n",
       "       'sqft_lot', 'floors', 'waterfront', 'view', 'condition', 'grade',\n",
       "       'sqft_above', 'sqft_basement', 'yr_built', 'yr_renovated', 'zipcode',\n",
       "       'lat', 'long', 'sqft_living15', 'sqft_lot15', 'bf1955', 'basement',\n",
       "       'month', 'year', 'renovated', 'condition_type', 'season'],\n",
       "      dtype='object')"
      ]
     },
     "execution_count": 11,
     "metadata": {},
     "output_type": "execute_result"
    }
   ],
   "source": [
    "df.columns"
   ]
  },
  {
   "cell_type": "code",
   "execution_count": 12,
   "id": "cfcab41c",
   "metadata": {
    "ExecuteTime": {
     "end_time": "2023-07-02T19:03:11.747811Z",
     "start_time": "2023-07-02T19:03:11.640629Z"
    }
   },
   "outputs": [
    {
     "data": {
      "text/html": [
       "<div>\n",
       "<style scoped>\n",
       "    .dataframe tbody tr th:only-of-type {\n",
       "        vertical-align: middle;\n",
       "    }\n",
       "\n",
       "    .dataframe tbody tr th {\n",
       "        vertical-align: top;\n",
       "    }\n",
       "\n",
       "    .dataframe thead th {\n",
       "        text-align: right;\n",
       "    }\n",
       "</style>\n",
       "<table border=\"1\" class=\"dataframe\">\n",
       "  <thead>\n",
       "    <tr style=\"text-align: right;\">\n",
       "      <th></th>\n",
       "      <th>count</th>\n",
       "      <th>mean</th>\n",
       "      <th>std</th>\n",
       "      <th>min</th>\n",
       "      <th>25%</th>\n",
       "      <th>50%</th>\n",
       "      <th>75%</th>\n",
       "      <th>max</th>\n",
       "    </tr>\n",
       "  </thead>\n",
       "  <tbody>\n",
       "    <tr>\n",
       "      <th>price</th>\n",
       "      <td>21436.00</td>\n",
       "      <td>541649.96</td>\n",
       "      <td>367314.93</td>\n",
       "      <td>75000.00</td>\n",
       "      <td>324866.00</td>\n",
       "      <td>450000.00</td>\n",
       "      <td>645000.00</td>\n",
       "      <td>7700000.00</td>\n",
       "    </tr>\n",
       "    <tr>\n",
       "      <th>bedrooms</th>\n",
       "      <td>21436.00</td>\n",
       "      <td>3.37</td>\n",
       "      <td>0.93</td>\n",
       "      <td>0.00</td>\n",
       "      <td>3.00</td>\n",
       "      <td>3.00</td>\n",
       "      <td>4.00</td>\n",
       "      <td>33.00</td>\n",
       "    </tr>\n",
       "    <tr>\n",
       "      <th>bathrooms</th>\n",
       "      <td>21436.00</td>\n",
       "      <td>2.12</td>\n",
       "      <td>0.77</td>\n",
       "      <td>0.00</td>\n",
       "      <td>1.75</td>\n",
       "      <td>2.25</td>\n",
       "      <td>2.50</td>\n",
       "      <td>8.00</td>\n",
       "    </tr>\n",
       "    <tr>\n",
       "      <th>sqft_living</th>\n",
       "      <td>21436.00</td>\n",
       "      <td>2082.70</td>\n",
       "      <td>919.15</td>\n",
       "      <td>290.00</td>\n",
       "      <td>1430.00</td>\n",
       "      <td>1920.00</td>\n",
       "      <td>2550.00</td>\n",
       "      <td>13540.00</td>\n",
       "    </tr>\n",
       "    <tr>\n",
       "      <th>sqft_lot</th>\n",
       "      <td>21436.00</td>\n",
       "      <td>15135.64</td>\n",
       "      <td>41538.62</td>\n",
       "      <td>520.00</td>\n",
       "      <td>5040.00</td>\n",
       "      <td>7614.00</td>\n",
       "      <td>10696.25</td>\n",
       "      <td>1651359.00</td>\n",
       "    </tr>\n",
       "    <tr>\n",
       "      <th>floors</th>\n",
       "      <td>21436.00</td>\n",
       "      <td>1.50</td>\n",
       "      <td>0.54</td>\n",
       "      <td>1.00</td>\n",
       "      <td>1.00</td>\n",
       "      <td>1.50</td>\n",
       "      <td>2.00</td>\n",
       "      <td>3.50</td>\n",
       "    </tr>\n",
       "    <tr>\n",
       "      <th>sqft_above</th>\n",
       "      <td>21436.00</td>\n",
       "      <td>1790.96</td>\n",
       "      <td>829.03</td>\n",
       "      <td>290.00</td>\n",
       "      <td>1200.00</td>\n",
       "      <td>1560.00</td>\n",
       "      <td>2220.00</td>\n",
       "      <td>9410.00</td>\n",
       "    </tr>\n",
       "    <tr>\n",
       "      <th>sqft_basement</th>\n",
       "      <td>21436.00</td>\n",
       "      <td>291.74</td>\n",
       "      <td>442.78</td>\n",
       "      <td>0.00</td>\n",
       "      <td>0.00</td>\n",
       "      <td>0.00</td>\n",
       "      <td>560.00</td>\n",
       "      <td>4820.00</td>\n",
       "    </tr>\n",
       "    <tr>\n",
       "      <th>yr_built</th>\n",
       "      <td>21436.00</td>\n",
       "      <td>1971.10</td>\n",
       "      <td>29.39</td>\n",
       "      <td>1900.00</td>\n",
       "      <td>1952.00</td>\n",
       "      <td>1975.00</td>\n",
       "      <td>1997.00</td>\n",
       "      <td>2015.00</td>\n",
       "    </tr>\n",
       "    <tr>\n",
       "      <th>sqft_living15</th>\n",
       "      <td>21436.00</td>\n",
       "      <td>1988.31</td>\n",
       "      <td>685.70</td>\n",
       "      <td>399.00</td>\n",
       "      <td>1490.00</td>\n",
       "      <td>1840.00</td>\n",
       "      <td>2370.00</td>\n",
       "      <td>6210.00</td>\n",
       "    </tr>\n",
       "    <tr>\n",
       "      <th>sqft_lot15</th>\n",
       "      <td>21436.00</td>\n",
       "      <td>12785.96</td>\n",
       "      <td>27375.47</td>\n",
       "      <td>651.00</td>\n",
       "      <td>5100.00</td>\n",
       "      <td>7620.00</td>\n",
       "      <td>10087.25</td>\n",
       "      <td>871200.00</td>\n",
       "    </tr>\n",
       "  </tbody>\n",
       "</table>\n",
       "</div>"
      ],
      "text/plain": [
       "                 count      mean       std      min       25%       50%  \\\n",
       "price         21436.00 541649.96 367314.93 75000.00 324866.00 450000.00   \n",
       "bedrooms      21436.00      3.37      0.93     0.00      3.00      3.00   \n",
       "bathrooms     21436.00      2.12      0.77     0.00      1.75      2.25   \n",
       "sqft_living   21436.00   2082.70    919.15   290.00   1430.00   1920.00   \n",
       "sqft_lot      21436.00  15135.64  41538.62   520.00   5040.00   7614.00   \n",
       "floors        21436.00      1.50      0.54     1.00      1.00      1.50   \n",
       "sqft_above    21436.00   1790.96    829.03   290.00   1200.00   1560.00   \n",
       "sqft_basement 21436.00    291.74    442.78     0.00      0.00      0.00   \n",
       "yr_built      21436.00   1971.10     29.39  1900.00   1952.00   1975.00   \n",
       "sqft_living15 21436.00   1988.31    685.70   399.00   1490.00   1840.00   \n",
       "sqft_lot15    21436.00  12785.96  27375.47   651.00   5100.00   7620.00   \n",
       "\n",
       "                    75%        max  \n",
       "price         645000.00 7700000.00  \n",
       "bedrooms           4.00      33.00  \n",
       "bathrooms          2.50       8.00  \n",
       "sqft_living     2550.00   13540.00  \n",
       "sqft_lot       10696.25 1651359.00  \n",
       "floors             2.00       3.50  \n",
       "sqft_above      2220.00    9410.00  \n",
       "sqft_basement    560.00    4820.00  \n",
       "yr_built        1997.00    2015.00  \n",
       "sqft_living15   2370.00    6210.00  \n",
       "sqft_lot15     10087.25  871200.00  "
      ]
     },
     "execution_count": 12,
     "metadata": {},
     "output_type": "execute_result"
    }
   ],
   "source": [
    "df[['price', 'bedrooms', 'bathrooms', 'sqft_living',\n",
    "       'sqft_lot', 'floors', 'sqft_above', 'sqft_basement', 'yr_built','sqft_living15', 'sqft_lot15']].describe().T"
   ]
  },
  {
   "cell_type": "code",
   "execution_count": 13,
   "id": "2aceae35",
   "metadata": {
    "ExecuteTime": {
     "end_time": "2023-07-02T19:03:11.794093Z",
     "start_time": "2023-07-02T19:03:11.754095Z"
    }
   },
   "outputs": [
    {
     "data": {
      "text/plain": [
       "array([ 3,  2,  4,  5,  1,  6,  7,  0,  8,  9, 11, 10], dtype=int64)"
      ]
     },
     "execution_count": 13,
     "metadata": {},
     "output_type": "execute_result"
    }
   ],
   "source": [
    "bed = df[df['bedrooms']==33].index\n",
    "df = df.drop(bed)\n",
    "df['bedrooms'].unique()"
   ]
  },
  {
   "cell_type": "code",
   "execution_count": 16,
   "id": "35707a28",
   "metadata": {
    "ExecuteTime": {
     "end_time": "2023-07-02T19:05:38.898328Z",
     "start_time": "2023-07-02T19:05:38.886160Z"
    }
   },
   "outputs": [
    {
     "data": {
      "text/plain": [
       "Index(['id', 'date', 'price', 'bedrooms', 'bathrooms', 'sqft_living',\n",
       "       'sqft_lot', 'floors', 'waterfront', 'view', 'condition', 'grade',\n",
       "       'sqft_above', 'sqft_basement', 'yr_built', 'yr_renovated', 'zipcode',\n",
       "       'lat', 'long', 'sqft_living15', 'sqft_lot15', 'bf1955', 'basement',\n",
       "       'month', 'year', 'renovated', 'condition_type', 'season'],\n",
       "      dtype='object')"
      ]
     },
     "execution_count": 16,
     "metadata": {},
     "output_type": "execute_result"
    }
   ],
   "source": [
    "df.columns"
   ]
  },
  {
   "cell_type": "markdown",
   "id": "9ef70cb6",
   "metadata": {},
   "source": [
    "# 2.0 Exploração de Dados"
   ]
  },
  {
   "cell_type": "markdown",
   "id": "0f33262a",
   "metadata": {},
   "source": [
    "## 2.1 Correlação"
   ]
  },
  {
   "cell_type": "code",
   "execution_count": 21,
   "id": "1d73e892",
   "metadata": {
    "ExecuteTime": {
     "end_time": "2023-07-02T19:10:23.547601Z",
     "start_time": "2023-07-02T19:10:22.488413Z"
    }
   },
   "outputs": [
    {
     "data": {
      "image/png": "[encoded data removed]",
      "text/plain": [
       "<Figure size 1100x700 with 2 Axes>"
      ]
     },
     "metadata": {},
     "output_type": "display_data"
    }
   ],
   "source": [
    "df_heatmap = df.drop(['bf1955','renovated', 'basement','condition_type','season'],axis=1)\n",
    "matrix = np.triu(df_heatmap.corr())\n",
    "\n",
    "cmap = sns.diverging_palette(250, 10, as_cmap=True)\n",
    "ax = sns.heatmap(df_heatmap.corr(), cmap = cmap, square = True, cbar_kws={\"shrink\": .6}, annot = False, center = 0, mask = matrix);\n",
    "\n",
    "# Rotacione as legendas dos eixos x e y em 45 graus\n",
    "ax.set_xticklabels(ax.get_xticklabels(), rotation=45, ha='right')\n",
    "\n",
    "# Adicione uma legenda\n",
    "cbar = ax.collections[0].colorbar\n",
    "cbar.set_label('Correlação')\n",
    "\n",
    "plt.subplots_adjust(bottom=0.15, left=0.15)\n",
    "plt.tight_layout()        "
   ]
  },
  {
   "cell_type": "markdown",
   "id": "33811d17",
   "metadata": {},
   "source": [
    "# 3.0 Insights"
   ]
  },
  {
   "cell_type": "code",
   "execution_count": 22,
   "id": "ee9ab729",
   "metadata": {
    "ExecuteTime": {
     "end_time": "2023-07-02T19:10:35.863864Z",
     "start_time": "2023-07-02T19:10:35.839886Z"
    }
   },
   "outputs": [],
   "source": [
    "df =  df.copy()"
   ]
  },
  {
   "cell_type": "code",
   "execution_count": 23,
   "id": "0eb5f15a",
   "metadata": {
    "ExecuteTime": {
     "end_time": "2023-07-02T19:10:37.727445Z",
     "start_time": "2023-07-02T19:10:37.704436Z"
    }
   },
   "outputs": [
    {
     "data": {
      "text/plain": [
       "id                         int64\n",
       "date              datetime64[ns]\n",
       "price                    float64\n",
       "bedrooms                   int64\n",
       "bathrooms                float64\n",
       "sqft_living                int64\n",
       "sqft_lot                   int64\n",
       "floors                   float64\n",
       "waterfront                 int64\n",
       "view                       int64\n",
       "condition                  int32\n",
       "grade                      int64\n",
       "sqft_above                 int64\n",
       "sqft_basement              int64\n",
       "yr_built                   int64\n",
       "yr_renovated      datetime64[ns]\n",
       "zipcode                    int64\n",
       "lat                      float64\n",
       "long                     float64\n",
       "sqft_living15              int64\n",
       "sqft_lot15                 int64\n",
       "bf1955                    object\n",
       "basement                  object\n",
       "month                      int32\n",
       "year                       int32\n",
       "renovated                 object\n",
       "condition_type            object\n",
       "season                    object\n",
       "dtype: object"
      ]
     },
     "execution_count": 23,
     "metadata": {},
     "output_type": "execute_result"
    }
   ],
   "source": [
    "df.dtypes"
   ]
  },
  {
   "cell_type": "markdown",
   "id": "13ad2ed5",
   "metadata": {},
   "source": [
    "## H1: Imóveis com a vista para a água são peloo menos 30% mais caros."
   ]
  },
  {
   "cell_type": "code",
   "execution_count": null,
   "id": "fd539309",
   "metadata": {
    "ExecuteTime": {
     "end_time": "2023-07-02T19:03:17.228742Z",
     "start_time": "2023-07-02T19:03:17.228742Z"
    }
   },
   "outputs": [],
   "source": [
    "h1 = df[['price', 'waterfront']].groupby('waterfront').mean().reset_index()\n",
    "sns.barplot(x = h1['waterfront'], y = h1['price'])\n",
    "plt.ticklabel_format(style='plain', axis='y')\n",
    "plt.xticks(h1['waterfront'], ['Sem','Com'])\n",
    "plt.title('Média de valores para locais com e sem vista para a água')\n",
    "plt.xlabel('Vista para a água')\n",
    "plt.ylabel('Preço médio')\n",
    "\n",
    "\n",
    "h1['price_divided'] = h1['price'] / h1['price'].shift()\n",
    "h1.head()"
   ]
  },
  {
   "cell_type": "markdown",
   "id": "842e9dc2",
   "metadata": {},
   "source": [
    "## H2: Imóveis com data de construção menor que 1955 são em média 50% mais baratos"
   ]
  },
  {
   "cell_type": "code",
   "execution_count": null,
   "id": "ebf67383",
   "metadata": {
    "ExecuteTime": {
     "end_time": "2023-07-02T19:03:17.234744Z",
     "start_time": "2023-07-02T19:03:17.234744Z"
    }
   },
   "outputs": [],
   "source": [
    "h2 = df[['bf1955', 'price']].groupby('bf1955').mean().reset_index()\n",
    "\n",
    "sns.barplot(x = h2['bf1955'], y = h2['price'])\n",
    "plt.ticklabel_format(style='plain', axis='y')\n",
    "\n",
    "plt.title('Média de valores para locais com construção anterior a 1955')\n",
    "plt.ylabel('Preço médio')\n",
    "\n",
    "\n",
    "h2['price_divided'] = h2['price'] / h2['price'].shift()\n",
    "h2.head()"
   ]
  },
  {
   "cell_type": "markdown",
   "id": "dd8a03ae",
   "metadata": {},
   "source": [
    "## H3: Imóveis sem porão poussem área total (sqrt_lot) pelo menos 50% maiores do que imóveis com porão"
   ]
  },
  {
   "cell_type": "code",
   "execution_count": null,
   "id": "90d8e078",
   "metadata": {
    "ExecuteTime": {
     "end_time": "2023-07-02T19:03:17.239743Z",
     "start_time": "2023-07-02T19:03:17.239743Z"
    }
   },
   "outputs": [],
   "source": [
    "h3 = df[['basement','sqft_lot']].groupby('basement').mean().reset_index()\n",
    "\n",
    "sns.barplot(x = h3['basement'], y = h3['sqft_lot'])\n",
    "plt.ticklabel_format(style='plain', axis='y')\n",
    "\n",
    "plt.title('Média da área total de imóveis com e sem porão')\n",
    "plt.ylabel('Área média')\n",
    "\n",
    "\n",
    "h3['sqft_proportion'] = h3['sqft_lot'] / h3['sqft_lot'].shift()\n",
    "h3.head()"
   ]
  },
  {
   "cell_type": "markdown",
   "id": "a3d25326",
   "metadata": {},
   "source": [
    "## H4: O crescimento do preço dos imóveis ano após ano (YoY) é de 10%"
   ]
  },
  {
   "cell_type": "code",
   "execution_count": null,
   "id": "8a884d1e",
   "metadata": {
    "ExecuteTime": {
     "end_time": "2023-07-02T19:03:17.245766Z",
     "start_time": "2023-07-02T19:03:17.245766Z"
    }
   },
   "outputs": [],
   "source": [
    "h4 = df[['year', 'price']].groupby('year').mean().reset_index()\n",
    "\n",
    "sns.barplot(x = h4['year'], y = h4['price'])\n",
    "plt.ticklabel_format(style='plain', axis='y')\n",
    "\n",
    "plt.title('Média do valor de imóveis nos anos de 2014 e 2015')\n",
    "plt.ylabel('Preço médio')\n",
    "plt.xlabel('Ano')\n",
    "\n",
    "\n",
    "h4['price_divided'] = h4['price'] / h4['price'].shift()\n",
    "h4.head()"
   ]
  },
  {
   "cell_type": "markdown",
   "id": "259129a2",
   "metadata": {},
   "source": [
    "## H5: Imóveis com 3 banheiros tem um crescimento MoM de 15%"
   ]
  },
  {
   "cell_type": "code",
   "execution_count": null,
   "id": "df868947",
   "metadata": {
    "ExecuteTime": {
     "end_time": "2023-07-02T19:03:17.250754Z",
     "start_time": "2023-07-02T19:03:17.250754Z"
    }
   },
   "outputs": [],
   "source": [
    "h5 = df[df['bathrooms']==3]\n",
    "h5 = h5[['month','price']].groupby('month').mean().reset_index()\n",
    "\n",
    "sns.lineplot(data = h5, x = 'month',y='price', markers = True, color = 'b')\n",
    "plt.title('Média do valor de imóveis ao passar dos meses')\n",
    "plt.ylabel('Preço médio')\n",
    "plt.xlabel('Meses')\n",
    "\n",
    "h5['Diferenca_Perc'] = h5['price'].pct_change() * 100\n",
    "h5.head()"
   ]
  },
  {
   "cell_type": "markdown",
   "id": "85020f2e",
   "metadata": {},
   "source": [
    "## H6: Imóveis com data de construção inferior a 1955 e  reformados são 50% mais baratos, comparado aos não reformados"
   ]
  },
  {
   "cell_type": "code",
   "execution_count": null,
   "id": "1238d227",
   "metadata": {
    "ExecuteTime": {
     "end_time": "2023-07-02T19:03:17.255759Z",
     "start_time": "2023-07-02T19:03:17.254756Z"
    }
   },
   "outputs": [],
   "source": [
    "h6 = df[df['bf1955'] == '<1955']\n",
    "h6 = h6[['renovated','price']].groupby(['renovated']).mean().reset_index()\n",
    "\n",
    "sns.barplot(x = h6['renovated'], y = h6['price'])\n",
    "plt.ticklabel_format(style='plain', axis='y')\n",
    "\n",
    "plt.title('Média do valor de imóveis de construção antes de 1955 com e sem reforma')\n",
    "plt.ylabel('Preço médio')\n",
    "plt.xlabel('Reformados')\n",
    "\n",
    "\n",
    "price_divided = h6['price'].shift() / h6['price']\n",
    "print(price_divided)\n",
    "#O imóvel é 30% mais barato"
   ]
  },
  {
   "cell_type": "markdown",
   "id": "b605780b",
   "metadata": {},
   "source": [
    "## H7: Imóveis em boas condições e com vista para água são 20% mais caros em comparação aos em más condições e com vista para água"
   ]
  },
  {
   "cell_type": "code",
   "execution_count": null,
   "id": "02c47db8",
   "metadata": {
    "ExecuteTime": {
     "end_time": "2023-07-02T19:03:17.263309Z",
     "start_time": "2023-07-02T19:03:17.263309Z"
    }
   },
   "outputs": [],
   "source": [
    "h7 = df[['price','waterfront','condition_type']].groupby(['waterfront','condition_type']).mean().reset_index()\n",
    "\n",
    "good_water = h7[(h7['condition_type']=='good') & (h7['waterfront']==1)].reset_index()\n",
    "bad_water =h7[(h7['condition_type']=='bad') & (h7['waterfront']==1)].reset_index()\n",
    "\n",
    "print(good_water['price']/bad_water['price'])\n",
    "\n",
    "fig = plt.figure(figsize=(24,12))\n",
    "specs = gridspec.GridSpec( ncols=2, nrows=1, figure=fig )\n",
    "\n",
    "ax1 =fig.add_subplot( specs[0, 0] ) # First Row\n",
    "ax2 =fig.add_subplot( specs[0,1] )\n",
    "\n",
    "ax1.bar(good_water['condition_type'], good_water['price'])\n",
    "ax2.bar(bad_water['condition_type'], bad_water['price'])\n",
    "\n",
    "print(good_water['price'])\n",
    "print(bad_water['price'])"
   ]
  },
  {
   "cell_type": "markdown",
   "id": "3ae9ffee",
   "metadata": {},
   "source": [
    "## H8: Imóveis em boas condições e com vista para água são pelo menos 10% mais caros em comparação aos em boas condições e sem vista para água"
   ]
  },
  {
   "cell_type": "code",
   "execution_count": null,
   "id": "b40272c0",
   "metadata": {
    "ExecuteTime": {
     "end_time": "2023-07-02T19:03:17.268301Z",
     "start_time": "2023-07-02T19:03:17.268301Z"
    }
   },
   "outputs": [],
   "source": [
    "h8 = df[df['condition_type'] == 'good']\n",
    "\n",
    "h8 = h8[['price','waterfront']].groupby('waterfront').mean().reset_index()\n",
    "\n",
    "sns.barplot(x = h8['waterfront'], y = h8['price'])\n",
    "plt.ticklabel_format(style='plain', axis='y')\n",
    "plt.xticks(h8['waterfront'], ['Sem','Com'])\n",
    "plt.title('Média do valor de imóveis em boas condições com e sem vista para água')\n",
    "plt.ylabel('Preço médio')\n",
    "plt.xlabel('Vista para a água')\n",
    "\n",
    "\n",
    "h8['price_divided'] = h8['price'] / h8['price'].shift()\n",
    "\n",
    "h8.head()"
   ]
  },
  {
   "cell_type": "markdown",
   "id": "afb443fa",
   "metadata": {},
   "source": [
    "## H9: Imóveis que nunca foram reformados são pelo menos 10% mais baratos que os não reformados"
   ]
  },
  {
   "cell_type": "code",
   "execution_count": null,
   "id": "61628123",
   "metadata": {
    "ExecuteTime": {
     "end_time": "2023-07-02T19:03:17.274312Z",
     "start_time": "2023-07-02T19:03:17.274312Z"
    }
   },
   "outputs": [],
   "source": [
    "h9 = df[['renovated','price']].groupby('renovated').mean().reset_index()\n",
    "\n",
    "sns.barplot(x = h9['renovated'], y = h9['price'])\n",
    "plt.ticklabel_format(style='plain', axis='y')\n",
    "\n",
    "plt.title('Média do valor de imóveis reformados')\n",
    "plt.ylabel('Preço médio')\n",
    "plt.xlabel('Reformado')\n",
    "\n",
    "\n",
    "print(h9['price'].shift()/h9['price'])"
   ]
  },
  {
   "cell_type": "markdown",
   "id": "51894a07",
   "metadata": {},
   "source": [
    "## H10: Imóveis construídos antes de 1955 possuem mais banheiros"
   ]
  },
  {
   "cell_type": "code",
   "execution_count": null,
   "id": "1a3bd36d",
   "metadata": {
    "ExecuteTime": {
     "end_time": "2023-07-02T19:03:17.279298Z",
     "start_time": "2023-07-02T19:03:17.279298Z"
    }
   },
   "outputs": [],
   "source": [
    "h10 = df[['bathrooms','bf1955']].groupby('bf1955').mean()\n",
    "\n",
    "\n",
    "print(h10)\n"
   ]
  },
  {
   "cell_type": "markdown",
   "id": "5d490f98",
   "metadata": {},
   "source": [
    "# 3.0 Questão de Negócio"
   ]
  },
  {
   "cell_type": "markdown",
   "id": "54cbe11b",
   "metadata": {},
   "source": [
    "## 3.1 Quais são os imóveis que a House Rocket deveria comprar e por qual preço ?"
   ]
  },
  {
   "cell_type": "code",
   "execution_count": null,
   "id": "10adbd27",
   "metadata": {
    "ExecuteTime": {
     "end_time": "2023-07-02T19:03:17.284307Z",
     "start_time": "2023-07-02T19:03:17.284307Z"
    }
   },
   "outputs": [],
   "source": [
    "df = df.copy()\n",
    "\n",
    "df1 = df[['zipcode','price']].groupby('zipcode').median().reset_index()\n",
    "\n",
    "df2 = pd.merge(df1,df, on='zipcode', how = 'inner')\n",
    "\n",
    "df2 = df2.rename(columns = {'price_y':'price', 'price_x':'price_median'})\n",
    "\n",
    "for i, row in df2.iterrows():\n",
    "    if (row['price_median']>= row['price']) & (row['condition_type'] == 'good'):\n",
    "        df2.loc[i,'buy'] = 'yes'\n",
    "    else:\n",
    "        df2.loc[i,'buy'] = 'no'"
   ]
  },
  {
   "cell_type": "code",
   "execution_count": null,
   "id": "f7d3c951",
   "metadata": {
    "ExecuteTime": {
     "end_time": "2023-07-02T19:03:17.289298Z",
     "start_time": "2023-07-02T19:03:17.289298Z"
    }
   },
   "outputs": [],
   "source": [
    "buy = df2[df2['buy']=='yes']\n",
    "\n",
    "buy['buy'].shape[0]\n",
    "buy[['id','price','buy']]"
   ]
  },
  {
   "cell_type": "code",
   "execution_count": null,
   "id": "84729e01",
   "metadata": {
    "ExecuteTime": {
     "end_time": "2023-07-02T19:03:17.294304Z",
     "start_time": "2023-07-02T19:03:17.294304Z"
    }
   },
   "outputs": [],
   "source": [
    "id_bar = widgets.Dropdown(\n",
    "        options = df2['buy'].unique().tolist(),\n",
    "        descriptiono = 'region',\n",
    "        disabled = False)\n"
   ]
  },
  {
   "cell_type": "code",
   "execution_count": null,
   "id": "33441356",
   "metadata": {
    "ExecuteTime": {
     "end_time": "2023-07-02T19:03:17.299296Z",
     "start_time": "2023-07-02T19:03:17.299296Z"
    }
   },
   "outputs": [],
   "source": [
    "def update_map(df3, id_bar):\n",
    "    house = df2[(df2['buy'] == id_bar)][['id', 'lat', 'long', 'condition', 'buy', 'price']]\n",
    "    \n",
    "    mapa = px.scatter_mapbox(house, lat = 'lat',lon = 'long',\n",
    "                            size = 'price',\n",
    "                            color = 'condition',\n",
    "                            opacity = 0.5,\n",
    "                            zoom = 10)\n",
    "    \n",
    "    mapa.update_layout(mapbox_style = 'open-street-map')\n",
    "    mapa.update_layout(height = 600, margin = {'b':0, 't':0, 'r':0, 'l': 0})\n",
    "    mapa.show()\n",
    "    \n",
    "widgets.interactive(update_map, df3 = fixed(df2), id_bar = id_bar)"
   ]
  },
  {
   "cell_type": "markdown",
   "id": "90817387",
   "metadata": {},
   "source": [
    "## 3.2 Uma vez comprado, qual é o melhor momento para vendê-lo e por qual preço ?"
   ]
  },
  {
   "cell_type": "code",
   "execution_count": null,
   "id": "bfcc69be",
   "metadata": {
    "ExecuteTime": {
     "end_time": "2023-07-02T19:03:17.305300Z",
     "start_time": "2023-07-02T19:03:17.305300Z"
    }
   },
   "outputs": [],
   "source": [
    "df3 = df2.copy()"
   ]
  },
  {
   "cell_type": "code",
   "execution_count": null,
   "id": "3c19fe07",
   "metadata": {
    "ExecuteTime": {
     "end_time": "2023-07-02T19:03:17.310298Z",
     "start_time": "2023-07-02T19:03:17.310298Z"
    }
   },
   "outputs": [],
   "source": [
    "df3 = df3[df3['buy']=='yes']"
   ]
  },
  {
   "cell_type": "code",
   "execution_count": null,
   "id": "05600502",
   "metadata": {
    "ExecuteTime": {
     "end_time": "2023-07-02T19:03:17.315298Z",
     "start_time": "2023-07-02T19:03:17.315298Z"
    }
   },
   "outputs": [],
   "source": [
    "df4 = df3[['season', 'zipcode', 'price']].groupby(['zipcode', 'season']).median().reset_index()\n",
    "\n",
    "df4 = df4.rename(columns = {'price' : 'price_m_season', 'season': 'season_median'} ) \n",
    "\n",
    "df5 = pd.merge(df3, df4, on='zipcode', how = 'inner')\n",
    "\n",
    "df5['sale'] = df5.apply(lambda row: row['price'] * 1.1 if row['price_m_season'] > row['price'] else row['price'] * 1.3, axis=1)\n",
    "\n",
    "df5 = df5.drop_duplicates(subset='id')"
   ]
  },
  {
   "cell_type": "code",
   "execution_count": null,
   "id": "aa89f927",
   "metadata": {
    "ExecuteTime": {
     "end_time": "2023-07-02T19:03:17.319298Z",
     "start_time": "2023-07-02T19:03:17.319298Z"
    }
   },
   "outputs": [],
   "source": [
    "df5[['season', 'price', 'id', 'sale']].head(20)"
   ]
  },
  {
   "cell_type": "code",
   "execution_count": null,
   "id": "32cdd3c8",
   "metadata": {
    "ExecuteTime": {
     "end_time": "2023-07-02T19:03:17.324295Z",
     "start_time": "2023-07-02T19:03:17.324295Z"
    }
   },
   "outputs": [],
   "source": [
    "sns.barplot(data = df5, x = 'season',y='sale')"
   ]
  },
  {
   "cell_type": "markdown",
   "id": "3e03abf4",
   "metadata": {},
   "source": [
    "# 4.0 Resultados para o negócio"
   ]
  },
  {
   "cell_type": "code",
   "execution_count": null,
   "id": "4ec9662b",
   "metadata": {
    "ExecuteTime": {
     "end_time": "2023-07-02T19:03:17.328303Z",
     "start_time": "2023-07-02T19:03:17.328303Z"
    }
   },
   "outputs": [],
   "source": [
    "df5['profit'] = df5['sale'] - df5['price']"
   ]
  },
  {
   "cell_type": "code",
   "execution_count": null,
   "id": "e91b1b40",
   "metadata": {
    "ExecuteTime": {
     "end_time": "2023-07-02T19:03:17.332300Z",
     "start_time": "2023-07-02T19:03:17.332300Z"
    }
   },
   "outputs": [],
   "source": [
    "print(\"Com a compra e venda dos imóveis a empresa irá lucrar {:.2f}\".format(df5['profit'].sum()))"
   ]
  },
  {
   "cell_type": "markdown",
   "id": "68bfa1c8",
   "metadata": {},
   "source": [
    "# 5.0 Resultados dos teste das hipóteses"
   ]
  },
  {
   "cell_type": "code",
   "execution_count": null,
   "id": "b7bff046",
   "metadata": {
    "ExecuteTime": {
     "end_time": "2023-07-02T19:03:17.337296Z",
     "start_time": "2023-07-02T19:03:17.337296Z"
    }
   },
   "outputs": [],
   "source": [
    "hipoteses = [['Hipótese','Validação','Resultado'],\n",
    "            ['H1','Verdadeiro','Os imóveis com vista para a água são em média 212% mais caros.'],\n",
    "            ['H2','Falso','O ano de construção dos imóveis não parece influenciar diretamente no preço.'],\n",
    "            ['H3','Falso','Os imóveis sem porão possuem área total maior, porém em média de 20% maior.'],\n",
    "            ['H4','Falso','O crescimento da média de preço dos imóveis é inferior a 1%.'],\n",
    "            ['H5','Falso','O preço dos imóveis varia de acordo com o mês, em momentos ocorrendo um aumento em outros uma redução.'],\n",
    "            ['H6','Falso','Os imóveis com data de construção inferior a 1955 e reformados são na verdade 30% mais baratos.'],\n",
    "            ['H7','Falso','Os imóveis em más condições e com vista para água são 2% mais caros, comparados aos em boas condições.'],\n",
    "            ['H8','Verdadeiro','Comparando imóveis em boas condições, os que possuem vista para água são em média 163% mais caros.'],\n",
    "            ['H9','Verdadeiro','Os imóveis não reformado são em média 30% mais baratos.'],\n",
    "            ['H10','Falso','Imóveis após o ano de 1955 possuem mais banheiros.']]\n",
    "\n",
    "\n",
    "print(tabulate(hipoteses, headers='firstrow'))"
   ]
  }
 ],
 "metadata": {
  "kernelspec": {
   "display_name": "Python 3 (ipykernel)",
   "language": "python",
   "name": "python3"
  },
  "language_info": {
   "codemirror_mode": {
    "name": "ipython",
    "version": 3
   },
   "file_extension": ".py",
   "mimetype": "text/x-python",
   "name": "python",
   "nbconvert_exporter": "python",
   "pygments_lexer": "ipython3",
   "version": "3.10.9"
  },
  "toc": {
   "base_numbering": 1,
   "nav_menu": {
    "height": "345px",
    "width": "246px"
   },
   "number_sections": true,
   "sideBar": true,
   "skip_h1_title": false,
   "title_cell": "Table of Contents",
   "title_sidebar": "Contents",
   "toc_cell": false,
   "toc_position": {},
   "toc_section_display": true,
   "toc_window_display": false
  },
  "varInspector": {
   "cols": {
    "lenName": 16,
    "lenType": 16,
    "lenVar": 40
   },
   "kernels_config": {
    "python": {
     "delete_cmd_postfix": "",
     "delete_cmd_prefix": "del ",
     "library": "var_list.py",
     "varRefreshCmd": "print(var_dic_list())"
    },
    "r": {
     "delete_cmd_postfix": ") ",
     "delete_cmd_prefix": "rm(",
     "library": "var_list.r",
     "varRefreshCmd": "cat(var_dic_list()) "
    }
   },
   "types_to_exclude": [
    "module",
    "function",
    "builtin_function_or_method",
    "instance",
    "_Feature"
   ],
   "window_display": false
  }
 },
 "nbformat": 4,
 "nbformat_minor": 5
}
